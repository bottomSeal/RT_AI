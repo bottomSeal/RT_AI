{
 "cells": [
  {
   "cell_type": "markdown",
   "source": [
    "# Рабочая тетрадь 2\n",
    "\n",
    "## Петренко Егор, ББСО-01-21\n",
    "\n",
    "### 1.3.1 Задание\n",
    "\n",
    "Создать 8x8 матрицу и заполнить её в шахматном порядке нулями и\n",
    "единицами.\n"
   ],
   "metadata": {
    "collapsed": false
   }
  },
  {
   "cell_type": "code",
   "execution_count": 4,
   "outputs": [
    {
     "name": "stdout",
     "output_type": "stream",
     "text": [
      "[[0. 1. 0. 1. 0. 1. 0. 1.]\n",
      " [1. 0. 1. 0. 1. 0. 1. 0.]\n",
      " [0. 1. 0. 1. 0. 1. 0. 1.]\n",
      " [1. 0. 1. 0. 1. 0. 1. 0.]\n",
      " [0. 1. 0. 1. 0. 1. 0. 1.]\n",
      " [1. 0. 1. 0. 1. 0. 1. 0.]\n",
      " [0. 1. 0. 1. 0. 1. 0. 1.]\n",
      " [1. 0. 1. 0. 1. 0. 1. 0.]]\n"
     ]
    }
   ],
   "source": [
    "import numpy as np\n",
    "\n",
    "lst = []\n",
    "lst = np.zeros((8, 8))\n",
    "lst[::2, 1::2] = 1\n",
    "lst[1::2, ::2] = 1\n",
    "print(lst)"
   ],
   "metadata": {
    "collapsed": false
   }
  },
  {
   "cell_type": "markdown",
   "source": [
    "### 1.3.2 Задание\n",
    "\n",
    "Создать 5x5 матрицу со значениями в строках от 0 до 4. Для создания\n",
    "необходимо использовать функцию arrange.\n"
   ],
   "metadata": {
    "collapsed": false
   }
  },
  {
   "cell_type": "code",
   "execution_count": 5,
   "outputs": [
    {
     "name": "stdout",
     "output_type": "stream",
     "text": [
      "[[0. 1. 2. 3. 4.]\n",
      " [0. 1. 2. 3. 4.]\n",
      " [0. 1. 2. 3. 4.]\n",
      " [0. 1. 2. 3. 4.]\n",
      " [0. 1. 2. 3. 4.]]\n"
     ]
    }
   ],
   "source": [
    "import numpy as np\n",
    "\n",
    "lst = np.zeros((5,5))\n",
    "lst += np.arange(5)\n",
    "print(lst)"
   ],
   "metadata": {
    "collapsed": false
   }
  },
  {
   "cell_type": "markdown",
   "source": [
    "### 1.3.3 Задание\n",
    "\n",
    "Создать массив 3x3x3 со случайными значениями."
   ],
   "metadata": {
    "collapsed": false
   }
  },
  {
   "cell_type": "code",
   "execution_count": 6,
   "outputs": [
    {
     "name": "stdout",
     "output_type": "stream",
     "text": [
      "[[[0.07685526 0.08532534 0.05468715]\n",
      "  [0.8620758  0.54320307 0.02744163]\n",
      "  [0.90063582 0.01275901 0.12968479]]\n",
      "\n",
      " [[0.86051971 0.54743095 0.05496134]\n",
      "  [0.50904146 0.08706646 0.69042313]\n",
      "  [0.95418618 0.40345682 0.59826808]]\n",
      "\n",
      " [[0.13703607 0.77038582 0.40462494]\n",
      "  [0.03572071 0.49384818 0.16839338]\n",
      "  [0.81268729 0.38884946 0.69900316]]]\n"
     ]
    }
   ],
   "source": [
    "import numpy as np\n",
    "\n",
    "lst = np.random.random((3,3,3))\n",
    "\n",
    "print(lst)"
   ],
   "metadata": {
    "collapsed": false
   }
  },
  {
   "cell_type": "markdown",
   "source": [
    "### 1.3.4 Задание\n",
    "\n",
    "Создать матрицу с 0 внутри, и 1 на границах."
   ],
   "metadata": {
    "collapsed": false
   }
  },
  {
   "cell_type": "code",
   "execution_count": 7,
   "outputs": [
    {
     "name": "stdout",
     "output_type": "stream",
     "text": [
      "[[1. 1. 1. 1. 1. 1. 1. 1. 1. 1.]\n",
      " [1. 0. 0. 0. 0. 0. 0. 0. 0. 1.]\n",
      " [1. 0. 0. 0. 0. 0. 0. 0. 0. 1.]\n",
      " [1. 0. 0. 0. 0. 0. 0. 0. 0. 1.]\n",
      " [1. 0. 0. 0. 0. 0. 0. 0. 0. 1.]\n",
      " [1. 0. 0. 0. 0. 0. 0. 0. 0. 1.]\n",
      " [1. 0. 0. 0. 0. 0. 0. 0. 0. 1.]\n",
      " [1. 0. 0. 0. 0. 0. 0. 0. 0. 1.]\n",
      " [1. 0. 0. 0. 0. 0. 0. 0. 0. 1.]\n",
      " [1. 1. 1. 1. 1. 1. 1. 1. 1. 1.]]\n"
     ]
    }
   ],
   "source": [
    "import numpy as np\n",
    "\n",
    "lst = np.ones((10, 10))\n",
    "lst[1:-1,1:-1] = 0\n",
    "\n",
    "print(lst)"
   ],
   "metadata": {
    "collapsed": false
   }
  },
  {
   "cell_type": "markdown",
   "source": [
    "### 1.3.5 Задание\n",
    "\n",
    "Создайте массив и отсортируйте его по убыванию."
   ],
   "metadata": {
    "collapsed": false
   }
  },
  {
   "cell_type": "code",
   "execution_count": 8,
   "outputs": [
    {
     "name": "stdout",
     "output_type": "stream",
     "text": [
      "[9 8 7 6 5 4 3 2 1 0]\n"
     ]
    }
   ],
   "source": [
    "import numpy as np\n",
    "\n",
    "print(np.sort(np.arange(10))[::-1])"
   ],
   "metadata": {
    "collapsed": false
   }
  },
  {
   "cell_type": "markdown",
   "source": [
    "### 1.3.6 Задание\n",
    "\n",
    "Создайте матрицу, выведите ее форму, размер и размерность."
   ],
   "metadata": {
    "collapsed": false
   }
  },
  {
   "cell_type": "code",
   "execution_count": 9,
   "outputs": [
    {
     "name": "stdout",
     "output_type": "stream",
     "text": [
      "(2, 4) 8 2\n"
     ]
    }
   ],
   "source": [
    "import numpy as np\n",
    "\n",
    "lst = np.array([[0, 1, 2, 3], [2, 2, 9, 8]])\n",
    "print(np.shape(lst), np.size(lst), np.ndim(lst))"
   ],
   "metadata": {
    "collapsed": false
   }
  },
  {
   "cell_type": "markdown",
   "source": [
    "### 2.3.1 Задание\n",
    "\n",
    "Найдитн евклидово расстояние между двумя Series (точками) a и b, не\n",
    "используя встроенную формулу.\n"
   ],
   "metadata": {
    "collapsed": false
   }
  },
  {
   "cell_type": "code",
   "execution_count": 3,
   "outputs": [
    {
     "name": "stdout",
     "output_type": "stream",
     "text": [
      "4.47213595499958\n"
     ]
    }
   ],
   "source": [
    "import pandas as pd\n",
    "\n",
    "a = pd.Series([1, 2, 3, 4])\n",
    "b = pd.Series([4, 3, 2, 1])\n",
    "\n",
    "print(sum((a - b)**2)**0.5)"
   ],
   "metadata": {
    "collapsed": false
   }
  },
  {
   "cell_type": "markdown",
   "source": [
    "### 2.3.2 Задание\n",
    "\n",
    "Найдите в Интернете ссылку на любой csv файл и сформируйте из него\n",
    "фрейм данных (например, коллекцию фреймов данных можно найти\n",
    "здесь: https://github.com/akmand/datasets)."
   ],
   "metadata": {
    "collapsed": false
   }
  },
  {
   "cell_type": "code",
   "execution_count": 4,
   "outputs": [
    {
     "data": {
      "text/plain": "  Airline  Flight AirportFrom AirportTo  DayOfWeek  Time  Length  Delay\n0      CO     269         SFO       IAH          3    15     205      1\n1      US    1558         PHX       CLT          3    15     222      1\n2      AA    2400         LAX       DFW          3    20     165      1\n3      AA    2466         SFO       DFW          3    20     195      1\n4      AS     108         ANC       SEA          3    30     202      0\n5      CO    1094         LAX       IAH          3    30     181      1\n6      DL    1768         LAX       MSP          3    30     220      0\n7      DL    2722         PHX       DTW          3    30     228      0\n8      DL    2606         SFO       MSP          3    35     216      1\n9      AA    2538         LAS       ORD          3    40     200      1",
      "text/html": "<div>\n<style scoped>\n    .dataframe tbody tr th:only-of-type {\n        vertical-align: middle;\n    }\n\n    .dataframe tbody tr th {\n        vertical-align: top;\n    }\n\n    .dataframe thead th {\n        text-align: right;\n    }\n</style>\n<table border=\"1\" class=\"dataframe\">\n  <thead>\n    <tr style=\"text-align: right;\">\n      <th></th>\n      <th>Airline</th>\n      <th>Flight</th>\n      <th>AirportFrom</th>\n      <th>AirportTo</th>\n      <th>DayOfWeek</th>\n      <th>Time</th>\n      <th>Length</th>\n      <th>Delay</th>\n    </tr>\n  </thead>\n  <tbody>\n    <tr>\n      <th>0</th>\n      <td>CO</td>\n      <td>269</td>\n      <td>SFO</td>\n      <td>IAH</td>\n      <td>3</td>\n      <td>15</td>\n      <td>205</td>\n      <td>1</td>\n    </tr>\n    <tr>\n      <th>1</th>\n      <td>US</td>\n      <td>1558</td>\n      <td>PHX</td>\n      <td>CLT</td>\n      <td>3</td>\n      <td>15</td>\n      <td>222</td>\n      <td>1</td>\n    </tr>\n    <tr>\n      <th>2</th>\n      <td>AA</td>\n      <td>2400</td>\n      <td>LAX</td>\n      <td>DFW</td>\n      <td>3</td>\n      <td>20</td>\n      <td>165</td>\n      <td>1</td>\n    </tr>\n    <tr>\n      <th>3</th>\n      <td>AA</td>\n      <td>2466</td>\n      <td>SFO</td>\n      <td>DFW</td>\n      <td>3</td>\n      <td>20</td>\n      <td>195</td>\n      <td>1</td>\n    </tr>\n    <tr>\n      <th>4</th>\n      <td>AS</td>\n      <td>108</td>\n      <td>ANC</td>\n      <td>SEA</td>\n      <td>3</td>\n      <td>30</td>\n      <td>202</td>\n      <td>0</td>\n    </tr>\n    <tr>\n      <th>5</th>\n      <td>CO</td>\n      <td>1094</td>\n      <td>LAX</td>\n      <td>IAH</td>\n      <td>3</td>\n      <td>30</td>\n      <td>181</td>\n      <td>1</td>\n    </tr>\n    <tr>\n      <th>6</th>\n      <td>DL</td>\n      <td>1768</td>\n      <td>LAX</td>\n      <td>MSP</td>\n      <td>3</td>\n      <td>30</td>\n      <td>220</td>\n      <td>0</td>\n    </tr>\n    <tr>\n      <th>7</th>\n      <td>DL</td>\n      <td>2722</td>\n      <td>PHX</td>\n      <td>DTW</td>\n      <td>3</td>\n      <td>30</td>\n      <td>228</td>\n      <td>0</td>\n    </tr>\n    <tr>\n      <th>8</th>\n      <td>DL</td>\n      <td>2606</td>\n      <td>SFO</td>\n      <td>MSP</td>\n      <td>3</td>\n      <td>35</td>\n      <td>216</td>\n      <td>1</td>\n    </tr>\n    <tr>\n      <th>9</th>\n      <td>AA</td>\n      <td>2538</td>\n      <td>LAS</td>\n      <td>ORD</td>\n      <td>3</td>\n      <td>40</td>\n      <td>200</td>\n      <td>1</td>\n    </tr>\n  </tbody>\n</table>\n</div>"
     },
     "execution_count": 4,
     "metadata": {},
     "output_type": "execute_result"
    }
   ],
   "source": [
    "url = 'https://raw.githubusercontent.com/akmand/datasets/main/airlines.csv'\n",
    "dataframe = pd.read_csv(url)\n",
    "dataframe.head(10)"
   ],
   "metadata": {
    "collapsed": false
   }
  },
  {
   "cell_type": "markdown",
   "source": [
    "### 2.3.3 Задание\n",
    "\n",
    "Проделайте с получившемся из предыдущего задания фреймом данных\n",
    "те же действия, что и в примерах 2.2.5-2.2.7.\n"
   ],
   "metadata": {
    "collapsed": false
   }
  },
  {
   "cell_type": "markdown",
   "source": [
    "#### 2.2.5 Пример\n",
    "Пронализировать характеристики фрейма данных."
   ],
   "metadata": {
    "collapsed": false
   }
  },
  {
   "cell_type": "code",
   "execution_count": 16,
   "outputs": [
    {
     "name": "stdout",
     "output_type": "stream",
     "text": [
      "  Airline  Flight AirportFrom AirportTo  DayOfWeek  Time  Length  Delay\n",
      "0      CO     269         SFO       IAH          3    15     205      1\n",
      "1      US    1558         PHX       CLT          3    15     222      1\n",
      "2      AA    2400         LAX       DFW          3    20     165      1\n",
      "       Airline  Flight AirportFrom AirportTo  DayOfWeek  Time  Length  Delay\n",
      "539381      UA      78         HNL       SFO          5  1439     313      1\n",
      "539382      US    1442         LAX       PHL          5  1439     301      1\n",
      "(539383, 8)\n",
      "              Flight      DayOfWeek           Time         Length  \\\n",
      "count  539383.000000  539383.000000  539383.000000  539383.000000   \n",
      "mean     2427.928630       3.929668     802.728963     132.202007   \n",
      "std      2067.429837       1.914664     278.045911      70.117016   \n",
      "min         1.000000       1.000000      10.000000       0.000000   \n",
      "25%       712.000000       2.000000     565.000000      81.000000   \n",
      "50%      1809.000000       4.000000     795.000000     115.000000   \n",
      "75%      3745.000000       5.000000    1035.000000     162.000000   \n",
      "max      7814.000000       7.000000    1439.000000     655.000000   \n",
      "\n",
      "               Delay  \n",
      "count  539383.000000  \n",
      "mean        0.445442  \n",
      "std         0.497015  \n",
      "min         0.000000  \n",
      "25%         0.000000  \n",
      "50%         0.000000  \n",
      "75%         1.000000  \n",
      "max         1.000000  \n",
      "  Airline  Flight AirportFrom AirportTo  DayOfWeek  Time  Length  Delay\n",
      "0      CO     269         SFO       IAH          3    15     205      1\n",
      "1      US    1558         PHX       CLT          3    15     222      1\n",
      "2      AA    2400         LAX       DFW          3    20     165      1\n",
      "       Airline  Flight AirportFrom AirportTo  DayOfWeek  Time  Length  Delay\n",
      "539381      UA      78         HNL       SFO          5  1439     313      1\n",
      "539382      US    1442         LAX       PHL          5  1439     301      1\n",
      "(539383, 8)\n",
      "              Flight      DayOfWeek           Time         Length  \\\n",
      "count  539383.000000  539383.000000  539383.000000  539383.000000   \n",
      "mean     2427.928630       3.929668     802.728963     132.202007   \n",
      "std      2067.429837       1.914664     278.045911      70.117016   \n",
      "min         1.000000       1.000000      10.000000       0.000000   \n",
      "25%       712.000000       2.000000     565.000000      81.000000   \n",
      "50%      1809.000000       4.000000     795.000000     115.000000   \n",
      "75%      3745.000000       5.000000    1035.000000     162.000000   \n",
      "max      7814.000000       7.000000    1439.000000     655.000000   \n",
      "\n",
      "               Delay  \n",
      "count  539383.000000  \n",
      "mean        0.445442  \n",
      "std         0.497015  \n",
      "min         0.000000  \n",
      "25%         0.000000  \n",
      "50%         0.000000  \n",
      "75%         1.000000  \n",
      "max         1.000000  \n"
     ]
    }
   ],
   "source": [
    "print(dataframe.head(3))\n",
    "print(dataframe.tail(2))\n",
    "print(dataframe.shape)\n",
    "print(dataframe.describe())"
   ],
   "metadata": {
    "collapsed": false
   }
  },
  {
   "cell_type": "markdown",
   "source": [
    "#### 2.2.6 Пример\n",
    "Выберите индивидуальные данные или срезы фрейма данных."
   ],
   "metadata": {
    "collapsed": false
   }
  },
  {
   "cell_type": "code",
   "execution_count": 13,
   "outputs": [
    {
     "data": {
      "text/plain": "   Airline  Flight AirportFrom AirportTo  DayOfWeek  Time  Length  Delay\n45      DL    1276         MSP       ATL          3   320     158      0\n46      OO    4651         FAR       MSP          3   320      62      1\n47      CO    1585         MFE       IAH          3   325      64      0\n48      CO     222         MSY       IAH          3   325      70      0\n49      EV    4966         VPS       ATL          3   325      69      0",
      "text/html": "<div>\n<style scoped>\n    .dataframe tbody tr th:only-of-type {\n        vertical-align: middle;\n    }\n\n    .dataframe tbody tr th {\n        vertical-align: top;\n    }\n\n    .dataframe thead th {\n        text-align: right;\n    }\n</style>\n<table border=\"1\" class=\"dataframe\">\n  <thead>\n    <tr style=\"text-align: right;\">\n      <th></th>\n      <th>Airline</th>\n      <th>Flight</th>\n      <th>AirportFrom</th>\n      <th>AirportTo</th>\n      <th>DayOfWeek</th>\n      <th>Time</th>\n      <th>Length</th>\n      <th>Delay</th>\n    </tr>\n  </thead>\n  <tbody>\n    <tr>\n      <th>45</th>\n      <td>DL</td>\n      <td>1276</td>\n      <td>MSP</td>\n      <td>ATL</td>\n      <td>3</td>\n      <td>320</td>\n      <td>158</td>\n      <td>0</td>\n    </tr>\n    <tr>\n      <th>46</th>\n      <td>OO</td>\n      <td>4651</td>\n      <td>FAR</td>\n      <td>MSP</td>\n      <td>3</td>\n      <td>320</td>\n      <td>62</td>\n      <td>1</td>\n    </tr>\n    <tr>\n      <th>47</th>\n      <td>CO</td>\n      <td>1585</td>\n      <td>MFE</td>\n      <td>IAH</td>\n      <td>3</td>\n      <td>325</td>\n      <td>64</td>\n      <td>0</td>\n    </tr>\n    <tr>\n      <th>48</th>\n      <td>CO</td>\n      <td>222</td>\n      <td>MSY</td>\n      <td>IAH</td>\n      <td>3</td>\n      <td>325</td>\n      <td>70</td>\n      <td>0</td>\n    </tr>\n    <tr>\n      <th>49</th>\n      <td>EV</td>\n      <td>4966</td>\n      <td>VPS</td>\n      <td>ATL</td>\n      <td>3</td>\n      <td>325</td>\n      <td>69</td>\n      <td>0</td>\n    </tr>\n  </tbody>\n</table>\n</div>"
     },
     "execution_count": 13,
     "metadata": {},
     "output_type": "execute_result"
    }
   ],
   "source": [
    "dataframe.iloc[45:50]"
   ],
   "metadata": {
    "collapsed": false
   }
  },
  {
   "cell_type": "markdown",
   "source": [
    "#### 2.2.7 Пример\n",
    "Требуется отобрать строки фрейма данных на основе некоторого\n",
    "условия. Необходимо сформировать новый фрейм данных из пассажиров\n",
    "первого класса.\n"
   ],
   "metadata": {
    "collapsed": false
   }
  },
  {
   "cell_type": "code",
   "execution_count": 5,
   "outputs": [
    {
     "data": {
      "text/plain": "      Airline  Flight AirportFrom AirportTo  DayOfWeek  Time  Length  Delay\n0          CO     269         SFO       IAH          3    15     205      1\n1          US    1558         PHX       CLT          3    15     222      1\n17613      CO     269         SFO       IAH          4    15     205      1\n17614      US    1558         PHX       CLT          4    15     222      0",
      "text/html": "<div>\n<style scoped>\n    .dataframe tbody tr th:only-of-type {\n        vertical-align: middle;\n    }\n\n    .dataframe tbody tr th {\n        vertical-align: top;\n    }\n\n    .dataframe thead th {\n        text-align: right;\n    }\n</style>\n<table border=\"1\" class=\"dataframe\">\n  <thead>\n    <tr style=\"text-align: right;\">\n      <th></th>\n      <th>Airline</th>\n      <th>Flight</th>\n      <th>AirportFrom</th>\n      <th>AirportTo</th>\n      <th>DayOfWeek</th>\n      <th>Time</th>\n      <th>Length</th>\n      <th>Delay</th>\n    </tr>\n  </thead>\n  <tbody>\n    <tr>\n      <th>0</th>\n      <td>CO</td>\n      <td>269</td>\n      <td>SFO</td>\n      <td>IAH</td>\n      <td>3</td>\n      <td>15</td>\n      <td>205</td>\n      <td>1</td>\n    </tr>\n    <tr>\n      <th>1</th>\n      <td>US</td>\n      <td>1558</td>\n      <td>PHX</td>\n      <td>CLT</td>\n      <td>3</td>\n      <td>15</td>\n      <td>222</td>\n      <td>1</td>\n    </tr>\n    <tr>\n      <th>17613</th>\n      <td>CO</td>\n      <td>269</td>\n      <td>SFO</td>\n      <td>IAH</td>\n      <td>4</td>\n      <td>15</td>\n      <td>205</td>\n      <td>1</td>\n    </tr>\n    <tr>\n      <th>17614</th>\n      <td>US</td>\n      <td>1558</td>\n      <td>PHX</td>\n      <td>CLT</td>\n      <td>4</td>\n      <td>15</td>\n      <td>222</td>\n      <td>0</td>\n    </tr>\n  </tbody>\n</table>\n</div>"
     },
     "execution_count": 5,
     "metadata": {},
     "output_type": "execute_result"
    }
   ],
   "source": [
    "dataframe[dataframe['Time'] == 15].head(4) ## Не работает со столбцами, где символы, узнать почему"
   ],
   "metadata": {
    "collapsed": false
   }
  },
  {
   "cell_type": "markdown",
   "source": [
    "### 3.3.2 Задание\n",
    "\n",
    "Загрузить фрейм данных по ссылке:\n",
    "https://raw.githubusercontent.com/akmand/datasets/master/iris.csv.\n",
    "Необходимо выполнить нормализацию первого числового признака\n",
    "(sepal_length_cm) с использованием минимаксного преобразования, а\n",
    "второго (sepal_width_cm) с задействованием z-масштабирования.\n"
   ],
   "metadata": {
    "collapsed": false
   }
  },
  {
   "cell_type": "code",
   "execution_count": 15,
   "outputs": [
    {
     "data": {
      "text/plain": "   sepal_length_cm  sepal_width_cm  petal_length_cm  petal_width_cm species\n0         0.222222        1.032057              1.4             0.2  setosa\n1         0.166667       -0.124958              1.4             0.2  setosa\n2         0.111111        0.337848              1.3             0.2  setosa\n3         0.083333        0.106445              1.5             0.2  setosa\n4         0.194444        1.263460              1.4             0.2  setosa\n5         0.305556        1.957669              1.7             0.4  setosa\n6         0.083333        0.800654              1.4             0.3  setosa\n7         0.194444        0.800654              1.5             0.2  setosa\n8         0.027778       -0.356361              1.4             0.2  setosa\n9         0.166667        0.106445              1.5             0.1  setosa",
      "text/html": "<div>\n<style scoped>\n    .dataframe tbody tr th:only-of-type {\n        vertical-align: middle;\n    }\n\n    .dataframe tbody tr th {\n        vertical-align: top;\n    }\n\n    .dataframe thead th {\n        text-align: right;\n    }\n</style>\n<table border=\"1\" class=\"dataframe\">\n  <thead>\n    <tr style=\"text-align: right;\">\n      <th></th>\n      <th>sepal_length_cm</th>\n      <th>sepal_width_cm</th>\n      <th>petal_length_cm</th>\n      <th>petal_width_cm</th>\n      <th>species</th>\n    </tr>\n  </thead>\n  <tbody>\n    <tr>\n      <th>0</th>\n      <td>0.222222</td>\n      <td>1.032057</td>\n      <td>1.4</td>\n      <td>0.2</td>\n      <td>setosa</td>\n    </tr>\n    <tr>\n      <th>1</th>\n      <td>0.166667</td>\n      <td>-0.124958</td>\n      <td>1.4</td>\n      <td>0.2</td>\n      <td>setosa</td>\n    </tr>\n    <tr>\n      <th>2</th>\n      <td>0.111111</td>\n      <td>0.337848</td>\n      <td>1.3</td>\n      <td>0.2</td>\n      <td>setosa</td>\n    </tr>\n    <tr>\n      <th>3</th>\n      <td>0.083333</td>\n      <td>0.106445</td>\n      <td>1.5</td>\n      <td>0.2</td>\n      <td>setosa</td>\n    </tr>\n    <tr>\n      <th>4</th>\n      <td>0.194444</td>\n      <td>1.263460</td>\n      <td>1.4</td>\n      <td>0.2</td>\n      <td>setosa</td>\n    </tr>\n    <tr>\n      <th>5</th>\n      <td>0.305556</td>\n      <td>1.957669</td>\n      <td>1.7</td>\n      <td>0.4</td>\n      <td>setosa</td>\n    </tr>\n    <tr>\n      <th>6</th>\n      <td>0.083333</td>\n      <td>0.800654</td>\n      <td>1.4</td>\n      <td>0.3</td>\n      <td>setosa</td>\n    </tr>\n    <tr>\n      <th>7</th>\n      <td>0.194444</td>\n      <td>0.800654</td>\n      <td>1.5</td>\n      <td>0.2</td>\n      <td>setosa</td>\n    </tr>\n    <tr>\n      <th>8</th>\n      <td>0.027778</td>\n      <td>-0.356361</td>\n      <td>1.4</td>\n      <td>0.2</td>\n      <td>setosa</td>\n    </tr>\n    <tr>\n      <th>9</th>\n      <td>0.166667</td>\n      <td>0.106445</td>\n      <td>1.5</td>\n      <td>0.1</td>\n      <td>setosa</td>\n    </tr>\n  </tbody>\n</table>\n</div>"
     },
     "execution_count": 15,
     "metadata": {},
     "output_type": "execute_result"
    }
   ],
   "source": [
    "from sklearn import preprocessing\n",
    "from sklearn.preprocessing import MinMaxScaler, StandardScaler\n",
    "\n",
    "dataframe_ = pd.read_csv('https://raw.githubusercontent.com/akmand/datasets/main/iris.csv')\n",
    "dataframe_[['sepal_length_cm']] = MinMaxScaler().fit_transform(dataframe_[['sepal_length_cm']])\n",
    "dataframe_[['sepal_width_cm']] = StandardScaler().fit_transform(dataframe_[['sepal_width_cm']])\n",
    "dataframe_.head(10)"
   ],
   "metadata": {
    "collapsed": false
   }
  },
  {
   "cell_type": "code",
   "execution_count": 15,
   "outputs": [],
   "source": [],
   "metadata": {
    "collapsed": false
   }
  }
 ],
 "metadata": {
  "kernelspec": {
   "display_name": "Python 3",
   "language": "python",
   "name": "python3"
  },
  "language_info": {
   "codemirror_mode": {
    "name": "ipython",
    "version": 2
   },
   "file_extension": ".py",
   "mimetype": "text/x-python",
   "name": "python",
   "nbconvert_exporter": "python",
   "pygments_lexer": "ipython2",
   "version": "2.7.6"
  }
 },
 "nbformat": 4,
 "nbformat_minor": 0
}
