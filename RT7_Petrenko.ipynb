{
 "cells": [
  {
   "cell_type": "markdown",
   "source": [
    "# Рабочая тетрадь 7\n",
    "\n",
    "## Петренко Егор, ББСО-01-21\n",
    "\n",
    "### Задание 1\n",
    "\n",
    "Реализовать классы нейросетей по аналогии с классом OurNeuralNetwork.\n",
    "Данные нейросети:\n",
    "− три входа (𝑥1, 𝑥2, 𝑥3\n",
    ");\n",
    "− три нейрона в скрытых слоях (ℎ1, ℎ2, ℎ3);\n",
    "− выход (𝑜1).\n",
    "Нейроны имеют идентичные веса и пороги:\n",
    "− 𝑤 = [0.5, 0.5, 0.5]\n",
    "− 𝑏 = 0\n",
    "Данные нейросети:\n",
    "− два входа (𝑥1, 𝑥2);\n",
    "− два нейрона в скрытых слоях (ℎ1, ℎ2);\n",
    "− два выхода (𝑜1, 𝑜2\n",
    ").\n",
    "Нейроны имеют идентичные веса и пороги:\n",
    "− 𝑤 = [1, 0];\n",
    "− 𝑏 = 1.\n"
   ],
   "metadata": {
    "collapsed": false
   }
  },
  {
   "cell_type": "code",
   "execution_count": 1,
   "outputs": [
    {
     "name": "stdout",
     "output_type": "stream",
     "text": [
      "0.8151036049051821\n",
      "0.8757270529783324 0.8757270529783324 "
     ]
    }
   ],
   "source": [
    "import matplotlib.pyplot as plt\n",
    "import numpy as np\n",
    "\n",
    "def sigmoid(x):\n",
    "    return 1 / (1+np.exp(-x)) #Ф-ция активации\n",
    "class Neuron:\n",
    "    def __init__(self, weights, bias):\n",
    "        self.weights = weights\n",
    "        self.bias = bias\n",
    "    def feedforward(self, inputs):\n",
    "        total = np.dot(self.weights, inputs) + self.bias\n",
    "        return sigmoid(total)\n",
    "\n",
    "class OurNeuralNetwork1:\n",
    "    def __init__(self):\n",
    "        weight = np.array([0.5, 0.5, 0.5])\n",
    "        bias = 0\n",
    "        self.h1 = Neuron(weight, bias)\n",
    "        self.h2 = Neuron(weight, bias)\n",
    "        self.h3 = Neuron(weight, bias)\n",
    "        self.o1 = Neuron(weight, bias)\n",
    "    def feedforward(self, x):\n",
    "        out_h1 = self.h1.feedforward(x)\n",
    "        out_h2 = self.h2.feedforward(x)\n",
    "        out_h3 = self.h3.feedforward(x)\n",
    "        out_o1 = self.o1.feedforward(np.array([out_h1, out_h2, out_h3]))\n",
    "        return out_o1\n",
    "\n",
    "class OurNeuralNetwork2:\n",
    "    def __init__(self):\n",
    "        weight = np.array([1, 0])\n",
    "        bias = 1\n",
    "        self.h1 = Neuron(weight, bias)\n",
    "        self.h2 = Neuron(weight, bias)\n",
    "        self.o1 = Neuron(weight, bias)\n",
    "        self.o2 = Neuron(weight, bias)\n",
    "    def feedforward(self, x):\n",
    "        out_h1 = self.h1.feedforward(x)\n",
    "        out_h2 = self.h2.feedforward(x)\n",
    "        out_o1 = self.o1.feedforward(np.array([out_h1, out_h2]))\n",
    "        out_o2 = self.o2.feedforward(np.array([out_h1, out_h2]))\n",
    "        return [out_o1, out_o2]\n",
    "\n",
    "\n",
    "network1 = OurNeuralNetwork1()\n",
    "x1 = np.array([2, 3, 4])\n",
    "print(network1.feedforward(x1))\n",
    "\n",
    "network2 = OurNeuralNetwork2()\n",
    "x2 = np.array([2, 3])\n",
    "for i in (network2.feedforward(x2)):\n",
    "    print(i, end=\" \")"
   ],
   "metadata": {
    "collapsed": false
   }
  },
  {
   "cell_type": "markdown",
   "source": [
    "### Задание 2\n",
    "\n",
    "Реализуйте классы нейронных сетей с использованием других функций\n",
    "активации."
   ],
   "metadata": {
    "collapsed": false
   }
  },
  {
   "cell_type": "code",
   "execution_count": 2,
   "outputs": [
    {
     "name": "stdout",
     "output_type": "stream",
     "text": [
      "0.9050813365686774\n"
     ]
    }
   ],
   "source": [
    "import numpy as np\n",
    "\n",
    "def tanh(x):\n",
    "    return np.tanh(x) #Ф-ция активации\n",
    "\n",
    "class Neuron:\n",
    "    def __init__(self, weights, bias):\n",
    "        self.weights = weights\n",
    "        self.bias = bias\n",
    "    def feedforward(self, inputs):\n",
    "        total = np.dot(self.weights, inputs) + self.bias\n",
    "        return tanh(total)\n",
    "\n",
    "class OurNeuralNetwork1:\n",
    "    def __init__(self):\n",
    "        weight = np.array([0.5, 0.5, 0.5])\n",
    "        bias = 0\n",
    "        self.h1 = Neuron(weight, bias)\n",
    "        self.h2 = Neuron(weight, bias)\n",
    "        self.h3 = Neuron(weight, bias)\n",
    "        self.o1 = Neuron(weight, bias)\n",
    "    def feedforward(self, x):\n",
    "        out_h1 = self.h1.feedforward(x)\n",
    "        out_h2 = self.h2.feedforward(x)\n",
    "        out_h3 = self.h3.feedforward(x)\n",
    "        out_o1 = self.o1.feedforward(np.array([out_h1, out_h2, out_h3]))\n",
    "        return out_o1\n",
    "\n",
    "\n",
    "network1 = OurNeuralNetwork1()\n",
    "x1 = np.array([2, 3, 4])\n",
    "print(network1.feedforward(x1))"
   ],
   "metadata": {
    "collapsed": false
   }
  },
  {
   "cell_type": "code",
   "execution_count": 3,
   "outputs": [
    {
     "name": "stdout",
     "output_type": "stream",
     "text": [
      "6.75\n"
     ]
    }
   ],
   "source": [
    "import numpy as np\n",
    "\n",
    "def ReLU(x):\n",
    "    return max(0,x) #Ф-ция активации\n",
    "\n",
    "class Neuron:\n",
    "    def __init__(self, weights, bias):\n",
    "        self.weights = weights\n",
    "        self.bias = bias\n",
    "    def feedforward(self, inputs):\n",
    "        total = np.dot(self.weights, inputs) + self.bias\n",
    "        return ReLU(total)\n",
    "\n",
    "class OurNeuralNetwork1:\n",
    "    def __init__(self):\n",
    "        weight = np.array([0.5, 0.5, 0.5])\n",
    "        bias = 0\n",
    "        self.h1 = Neuron(weight, bias)\n",
    "        self.h2 = Neuron(weight, bias)\n",
    "        self.h3 = Neuron(weight, bias)\n",
    "        self.o1 = Neuron(weight, bias)\n",
    "    def feedforward(self, x):\n",
    "        out_h1 = self.h1.feedforward(x)\n",
    "        out_h2 = self.h2.feedforward(x)\n",
    "        out_h3 = self.h3.feedforward(x)\n",
    "        out_o1 = self.o1.feedforward(np.array([out_h1, out_h2, out_h3]))\n",
    "        return out_o1\n",
    "\n",
    "\n",
    "network1 = OurNeuralNetwork1()\n",
    "x1 = np.array([2, 3, 4])\n",
    "print(network1.feedforward(x1))"
   ],
   "metadata": {
    "collapsed": false
   }
  },
  {
   "cell_type": "markdown",
   "source": [
    "### Задание 3\n",
    "\n",
    "Используйте классы MLPClassified и MLPRegressor для классификации и\n",
    "регрессии произвольных данных из интернета. Проведите анализ\n",
    "атрибуты, полученных моделей.\n",
    "Для классификации можете взять набор данных Ирисов:\n",
    "https://gist.githubusercontent.com/netj/8836201/raw/6f9306ad21398ea43cba4f\n",
    "7d537619d0e07d5ae3/iris.csv\n",
    "а для регрессии датасет зависимости заработной платы от опыта работы:\n",
    "https://raw.githubusercontent.com/AnnaShestova/salary-years-simple-linear\u0002regression/master/Salary_Data.csv"
   ],
   "metadata": {
    "collapsed": false
   }
  },
  {
   "cell_type": "code",
   "execution_count": 5,
   "outputs": [
    {
     "name": "stdout",
     "output_type": "stream",
     "text": [
      "Train/Test Sizes:  (120, 4) (30, 4) (120,) (30,)\n"
     ]
    }
   ],
   "source": [
    "from sklearn.model_selection import train_test_split\n",
    "import pandas as pd\n",
    "\n",
    "df = pd.read_csv(r'https://gist.githubusercontent.com/netj/8836201/raw/6f9306ad21398ea43cba4f7d537619d0e07d5ae3/iris.csv')\n",
    "\n",
    "x_train, x_test, y_train, y_test = train_test_split(df.iloc[:, :-1], df.iloc[:, -1],train_size = 0.80, test_size = 0.20, random_state = 3)\n",
    "print('Train/Test Sizes: ', x_train.shape, x_test.shape, y_train.shape, y_test.shape)"
   ],
   "metadata": {
    "collapsed": false
   }
  },
  {
   "cell_type": "code",
   "execution_count": 3,
   "outputs": [
    {
     "name": "stdout",
     "output_type": "stream",
     "text": [
      "['Setosa' 'Setosa' 'Setosa' 'Setosa' 'Setosa' 'Virginica' 'Versicolor'\n",
      " 'Setosa' 'Virginica' 'Versicolor' 'Versicolor' 'Setosa' 'Versicolor'\n",
      " 'Versicolor' 'Virginica']\n",
      "47         Setosa\n",
      "3          Setosa\n",
      "31         Setosa\n",
      "25         Setosa\n",
      "15         Setosa\n",
      "118     Virginica\n",
      "89     Versicolor\n",
      "6          Setosa\n",
      "103     Virginica\n",
      "65     Versicolor\n",
      "88     Versicolor\n",
      "38         Setosa\n",
      "92     Versicolor\n",
      "53     Versicolor\n",
      "140     Virginica\n",
      "Name: variety, dtype: object\n",
      "Test Accuracy: 0.967\n",
      "Training Accuracy: 0.975\n"
     ]
    }
   ],
   "source": [
    "from sklearn.neural_network import MLPClassifier\n",
    "\n",
    "mlpclassifier = MLPClassifier(random_state=123,max_iter = 2000)\n",
    "mlpclassifier.fit(x_train, y_train)\n",
    "\n",
    "y_pred = mlpclassifier.predict(x_test)\n",
    "\n",
    "print(y_pred[:15])\n",
    "print(y_test[:15])\n",
    "\n",
    "print('Test Accuracy: %.3f'%mlpclassifier.score(x_test, y_test))\n",
    "print('Training Accuracy: %.3f'%mlpclassifier.score(x_train, y_train))"
   ],
   "metadata": {
    "collapsed": false
   }
  },
  {
   "cell_type": "code",
   "execution_count": 24,
   "outputs": [
    {
     "data": {
      "text/plain": "<Figure size 600x600 with 2 Axes>",
      "image/png": "[encoded data removed]"
     },
     "metadata": {},
     "output_type": "display_data"
    }
   ],
   "source": [
    "from sklearn.metrics import confusion_matrix\n",
    "import matplotlib.pyplot as plt\n",
    "\n",
    "\n",
    "def plot_confusion_matrix(y_test, y_preds):\n",
    "    conf_mat = confusion_matrix(y_test, y_pred)\n",
    "    fig = plt.figure(figsize = (6,6))\n",
    "    plt.matshow(conf_mat, cmap = plt.cm.Blues, fignum = 1)\n",
    "    plt.yticks(range(3), range(3))\n",
    "    plt.xticks(range(3), range(3))\n",
    "\n",
    "    plt.colorbar();\n",
    "    for i in range(3):\n",
    "        for j in range(3):\n",
    "            plt.text(i-0.2, j+0.1, str(conf_mat[j,i]), color = 'tab:red')\n",
    "\n",
    "plot_confusion_matrix(y_test, y_pred)\n"
   ],
   "metadata": {
    "collapsed": false
   }
  },
  {
   "cell_type": "code",
   "execution_count": 25,
   "outputs": [
    {
     "name": "stdout",
     "output_type": "stream",
     "text": [
      "Loss: 0.08107631418507248\n",
      "Number of Coefs: 2\n",
      "Number of Intercepts: 2\n",
      "Number of Iteractions for Which Estimator Ran: 651\n",
      "Name of Output Layer Activation Function: softmax\n"
     ]
    }
   ],
   "source": [
    "print(\"Loss:\", mlpclassifier.loss_)\n",
    "print(\"Number of Coefs:\", len(mlpclassifier.coefs_))\n",
    "print(\"Number of Intercepts:\", len(mlpclassifier.intercepts_))\n",
    "print(\"Number of Iteractions for Which Estimator Ran:\", mlpclassifier.n_iter_)\n",
    "print(\"Name of Output Layer Activation Function:\", mlpclassifier.out_activation_)"
   ],
   "metadata": {
    "collapsed": false
   }
  },
  {
   "cell_type": "code",
   "execution_count": 26,
   "outputs": [
    {
     "name": "stdout",
     "output_type": "stream",
     "text": [
      "Train/Tets Sizes:  (24, 1) (6, 1) (24,) (6,)\n"
     ]
    }
   ],
   "source": [
    "df = pd.read_csv(r'https://raw.githubusercontent.com/AnnaShestova/salary-years-simple-linear-regression/master/Salary_Data.csv ')\n",
    "from sklearn.model_selection import train_test_split\n",
    "x_train, x_test, y_train, y_test = train_test_split(df.iloc[:, :-1], df.iloc[:, -1],train_size = 0.80, test_size = 0.20, random_state = 3)\n",
    "x_train.shape, x_test.shape, y_train.shape, y_test.shape\n",
    "print('Train/Tets Sizes: ', x_train.shape, x_test.shape, y_train.shape, y_test.shape)"
   ],
   "metadata": {
    "collapsed": false
   }
  },
  {
   "cell_type": "code",
   "execution_count": 27,
   "outputs": [
    {
     "data": {
      "text/plain": "MLPRegressor(max_iter=100000, random_state=123)"
     },
     "execution_count": 27,
     "metadata": {},
     "output_type": "execute_result"
    }
   ],
   "source": [
    "from sklearn.neural_network import MLPRegressor\n",
    "mlp_regressor = MLPRegressor(random_state = 123, max_iter=100000)\n",
    "mlp_regressor.fit(x_train, y_train)"
   ],
   "metadata": {
    "collapsed": false
   }
  },
  {
   "cell_type": "code",
   "execution_count": 28,
   "outputs": [
    {
     "name": "stdout",
     "output_type": "stream",
     "text": [
      "[ 72348.67688334  53511.4631376  100604.49750196 115674.26849856\n",
      "  81767.28375621  68581.23413419]\n",
      "15     67938.0\n",
      "5      56642.0\n",
      "22    101302.0\n",
      "26    116969.0\n",
      "18     81363.0\n",
      "14     61111.0\n",
      "Name: Salary, dtype: float64\n",
      "test r^2 score: 0.970\n",
      "training r^2 score : 0.955\n"
     ]
    }
   ],
   "source": [
    "y_preds = mlp_regressor.predict(x_test)\n",
    "print(y_preds[:10])\n",
    "print(y_test[:10])\n",
    "print('test r^2 score: %.3f'%mlp_regressor.score(x_test, y_test))\n",
    "print('training r^2 score : %.3f'% mlp_regressor.score(x_train, y_train))"
   ],
   "metadata": {
    "collapsed": false
   }
  },
  {
   "cell_type": "code",
   "execution_count": 29,
   "outputs": [
    {
     "name": "stdout",
     "output_type": "stream",
     "text": [
      "Loss :  17764218.92366365\n",
      "number of Coefs:  2\n",
      "number of Intercepts :  2\n",
      "number of Iterations for which estimator ran:  30741\n",
      "name of output layer activation function:  identity\n"
     ]
    }
   ],
   "source": [
    "print(\"Loss : \", mlp_regressor.loss_)\n",
    "print(\"number of Coefs: \", len(mlp_regressor.coefs_))\n",
    "print(\"number of Intercepts : \", len(mlp_regressor.intercepts_))\n",
    "print(\"number of Iterations for which estimator ran: \", mlp_regressor.n_iter_)\n",
    "print(\"name of output layer activation function: \", mlp_regressor.out_activation_)"
   ],
   "metadata": {
    "collapsed": false
   }
  }
 ],
 "metadata": {
  "kernelspec": {
   "display_name": "Python 3",
   "language": "python",
   "name": "python3"
  },
  "language_info": {
   "codemirror_mode": {
    "name": "ipython",
    "version": 2
   },
   "file_extension": ".py",
   "mimetype": "text/x-python",
   "name": "python",
   "nbconvert_exporter": "python",
   "pygments_lexer": "ipython2",
   "version": "2.7.6"
  }
 },
 "nbformat": 4,
 "nbformat_minor": 0
}
